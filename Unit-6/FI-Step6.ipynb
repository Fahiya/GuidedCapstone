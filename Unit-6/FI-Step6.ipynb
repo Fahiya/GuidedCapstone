{
 "cells": [
  {
   "cell_type": "code",
   "execution_count": 1,
   "metadata": {},
   "outputs": [],
   "source": [
    "import os\n",
    "import pandas as pd\n",
    "import datetime\n",
    "import seaborn as sns\n",
    "import matplotlib.pyplot as plt\n",
    "import numpy as np\n",
    "import sklearn\n",
    "%matplotlib inline"
   ]
  },
  {
   "cell_type": "code",
   "execution_count": 2,
   "metadata": {},
   "outputs": [],
   "source": [
    "df=pd.read_csv(r'C:\\Users\\fahiy\\Documents\\Springboard\\Capstone\\Unit-6\\Unit-6-Step5\\step5_output.csv')\n"
   ]
  },
  {
   "cell_type": "code",
   "execution_count": 3,
   "metadata": {},
   "outputs": [],
   "source": [
    "dfo=df.select_dtypes(include=['object'])"
   ]
  },
  {
   "cell_type": "code",
   "execution_count": 4,
   "metadata": {},
   "outputs": [
    {
     "name": "stdout",
     "output_type": "stream",
     "text": [
      "Index(['vertical_drop', 'trams', 'fastEight', 'fastSixes', 'fastQuads', 'quad',\n",
      "       'triple', 'double', 'surface', 'total_chairs', 'Runs', 'TerrainParks',\n",
      "       'LongestRun_mi', 'SkiableTerrain_ac', 'Snow Making_ac',\n",
      "       'daysOpenLastYear', 'yearsOpen', 'averageSnowfall', 'AdultWeekday',\n",
      "       'projectedDaysOpen', 'NightSkiing_ac', 'clusters'],\n",
      "      dtype='object')\n"
     ]
    }
   ],
   "source": [
    "from  sklearn import preprocessing\n",
    "\n",
    "# Dropping 'Name' and 'AdultWeekend' from the df\n",
    "X = df.drop(['Unnamed: 0','Name','AdultWeekend'], axis=1)\n",
    "X =  X.drop(X.loc[:,'Alaska':'Wyoming'],axis=1)\n",
    "X =  X.drop(['summit_elev'],axis=1)\n",
    "print(X.columns)\n",
    "# Declare a response variable y, and assign it the AdultWeekend column of the df \n",
    "y = df['AdultWeekend']\n",
    "\n",
    "scaler1 = preprocessing.StandardScaler().fit(X)\n",
    "X_scaled=scaler1.transform(X)"
   ]
  },
  {
   "cell_type": "code",
   "execution_count": 5,
   "metadata": {},
   "outputs": [
    {
     "name": "stdout",
     "output_type": "stream",
     "text": [
      "[53.         34.         78.         47.         64.16681004 78.\n",
      " 75.         64.16681004 59.         84.         69.         83.\n",
      " 64.16681004 79.         50.         69.         89.         56.\n",
      " 84.         65.         65.         60.         55.         62.\n",
      " 42.         47.         32.         47.         64.16681004 55.\n",
      " 35.         40.         45.         52.         40.         43.\n",
      " 55.         49.         32.         75.         79.         68.\n",
      " 40.         64.16681004 65.         49.         49.         64.16681004\n",
      " 49.         34.         45.         45.         45.         42.\n",
      " 50.         64.16681004 45.         47.         44.         37.\n",
      " 58.         35.34       48.         59.         47.         47.\n",
      " 39.         20.         70.         89.         59.         64.16681004\n",
      " 50.         58.         93.         72.         93.         45.\n",
      " 89.         77.         20.         49.         55.         47.\n",
      " 80.         76.         69.         63.2        42.         75.\n",
      " 59.         30.         54.         67.         48.         59.\n",
      " 57.         49.         55.         59.         64.         70.\n",
      " 43.         65.         44.         44.         52.         40.\n",
      " 39.         52.         62.         68.         70.         64.16681004\n",
      " 69.         65.         33.         65.         44.         64.16681004\n",
      " 64.16681004 45.         64.16681004 45.         65.         50.\n",
      " 80.         50.         79.         91.         73.         64.16681004\n",
      " 74.         79.         75.         68.         64.16681004 64.16681004\n",
      " 47.         69.         68.         92.         72.         25.\n",
      " 64.         38.         64.16681004 49.         56.         47.\n",
      " 44.         54.         48.         60.         48.         42.\n",
      " 59.        ]\n"
     ]
    }
   ],
   "source": [
    "from sklearn.model_selection import train_test_split\n",
    "y = y.ravel()\n",
    "print(y)\n",
    "X_train, X_test, y_train,y_test= train_test_split(X_scaled, y, test_size=0.25, random_state=1)"
   ]
  },
  {
   "cell_type": "code",
   "execution_count": 6,
   "metadata": {},
   "outputs": [],
   "source": [
    "#all first model set\n",
    "from sklearn import linear_model\n",
    "from sklearn.metrics import explained_variance_score,mean_absolute_error\n",
    "lm = linear_model.LinearRegression()\n",
    "model = lm.fit(X_train,y_train)"
   ]
  },
  {
   "cell_type": "code",
   "execution_count": 7,
   "metadata": {},
   "outputs": [
    {
     "data": {
      "text/plain": [
       "array([62.4610836 , 68.15091161, 60.85475399, 47.71208383, 46.85321327,\n",
       "       78.40575189, 49.2871228 , 50.09700543, 46.87932568, 36.14964304,\n",
       "       63.88118142, 88.10821277, 47.89139108, 62.99244027, 67.45630645,\n",
       "       75.76508693, 45.74828243, 77.16665128, 63.0531197 , 58.56273716,\n",
       "       53.8562502 , 44.67149419, 44.59456193, 56.60498882, 59.74478564,\n",
       "       89.92998884, 47.25945331, 34.62238288, 58.00945522, 51.95885222,\n",
       "       54.49652115, 55.21545871, 41.61397614, 63.95417085, 76.31460727,\n",
       "       34.42976262, 47.48376174, 71.0166162 , 61.72308849, 53.21111785])"
      ]
     },
     "execution_count": 7,
     "metadata": {},
     "output_type": "execute_result"
    }
   ],
   "source": [
    "y_pred=model.predict(X_test)\n",
    "y_pred"
   ]
  },
  {
   "cell_type": "code",
   "execution_count": 8,
   "metadata": {},
   "outputs": [
    {
     "name": "stdout",
     "output_type": "stream",
     "text": [
      "0.7552845317680053\n",
      "6.183673158073195\n"
     ]
    }
   ],
   "source": [
    "from sklearn.metrics import  explained_variance_score\n",
    "from sklearn.metrics import  mean_absolute_error\n",
    "print(explained_variance_score(y_test,y_pred))\n",
    "print(mean_absolute_error(y_test,y_pred))"
   ]
  },
  {
   "cell_type": "code",
   "execution_count": 9,
   "metadata": {},
   "outputs": [
    {
     "name": "stdout",
     "output_type": "stream",
     "text": [
      "[62.4610836  68.15091161 60.85475399 47.71208383 46.85321327 78.40575189\n",
      " 49.2871228  50.09700543 46.87932568 36.14964304 63.88118142 88.10821277\n",
      " 47.89139108 62.99244027 67.45630645 75.76508693 45.74828243 77.16665128\n",
      " 63.0531197  58.56273716 53.8562502  44.67149419 44.59456193 56.60498882\n",
      " 59.74478564 89.92998884 47.25945331 34.62238288 58.00945522 51.95885222\n",
      " 54.49652115 55.21545871 41.61397614 63.95417085 76.31460727 34.42976262\n",
      " 47.48376174 71.0166162  61.72308849 53.21111785]\n"
     ]
    }
   ],
   "source": [
    "y_pred = model.predict(X_test)\n",
    "print(y_pred)"
   ]
  },
  {
   "cell_type": "code",
   "execution_count": 10,
   "metadata": {},
   "outputs": [],
   "source": [
    "dfc = pd.DataFrame(abs(lm.coef_), X.columns, columns=['Coefficient'])"
   ]
  },
  {
   "cell_type": "code",
   "execution_count": 11,
   "metadata": {},
   "outputs": [
    {
     "data": {
      "text/plain": [
       "57.8284263658771"
      ]
     },
     "execution_count": 11,
     "metadata": {},
     "output_type": "execute_result"
    }
   ],
   "source": [
    "lm.intercept_"
   ]
  },
  {
   "cell_type": "markdown",
   "metadata": {},
   "source": [
    "We actually took a random resort in Montana since Big Mountain Resort was not present in the dataset and renamed it \"Big Mountain Resort\"\n"
   ]
  },
  {
   "cell_type": "code",
   "execution_count": 14,
   "metadata": {},
   "outputs": [
    {
     "data": {
      "text/html": [
       "<div>\n",
       "<style scoped>\n",
       "    .dataframe tbody tr th:only-of-type {\n",
       "        vertical-align: middle;\n",
       "    }\n",
       "\n",
       "    .dataframe tbody tr th {\n",
       "        vertical-align: top;\n",
       "    }\n",
       "\n",
       "    .dataframe thead th {\n",
       "        text-align: right;\n",
       "    }\n",
       "</style>\n",
       "<table border=\"1\" class=\"dataframe\">\n",
       "  <thead>\n",
       "    <tr style=\"text-align: right;\">\n",
       "      <th></th>\n",
       "      <th>Name</th>\n",
       "      <th>summit_elev</th>\n",
       "      <th>vertical_drop</th>\n",
       "      <th>trams</th>\n",
       "      <th>fastEight</th>\n",
       "      <th>fastSixes</th>\n",
       "      <th>fastQuads</th>\n",
       "      <th>quad</th>\n",
       "      <th>triple</th>\n",
       "      <th>double</th>\n",
       "      <th>...</th>\n",
       "      <th>Rhode Island</th>\n",
       "      <th>South Dakota</th>\n",
       "      <th>Tennessee</th>\n",
       "      <th>Utah</th>\n",
       "      <th>Vermont</th>\n",
       "      <th>Virginia</th>\n",
       "      <th>Washington</th>\n",
       "      <th>West Virginia</th>\n",
       "      <th>Wisconsin</th>\n",
       "      <th>Wyoming</th>\n",
       "    </tr>\n",
       "  </thead>\n",
       "  <tbody>\n",
       "    <tr>\n",
       "      <th>65</th>\n",
       "      <td>Big Mountain Resort</td>\n",
       "      <td>8200</td>\n",
       "      <td>1400</td>\n",
       "      <td>0</td>\n",
       "      <td>0</td>\n",
       "      <td>0</td>\n",
       "      <td>0</td>\n",
       "      <td>0</td>\n",
       "      <td>1</td>\n",
       "      <td>2</td>\n",
       "      <td>...</td>\n",
       "      <td>0</td>\n",
       "      <td>0</td>\n",
       "      <td>0</td>\n",
       "      <td>0</td>\n",
       "      <td>0</td>\n",
       "      <td>0</td>\n",
       "      <td>0</td>\n",
       "      <td>0</td>\n",
       "      <td>0</td>\n",
       "      <td>0</td>\n",
       "    </tr>\n",
       "  </tbody>\n",
       "</table>\n",
       "<p>1 rows × 59 columns</p>\n",
       "</div>"
      ],
      "text/plain": [
       "                   Name  summit_elev  vertical_drop  trams  fastEight  \\\n",
       "65  Big Mountain Resort         8200           1400      0          0   \n",
       "\n",
       "    fastSixes  fastQuads  quad  triple  double  ...  Rhode Island  \\\n",
       "65          0          0     0       1       2  ...             0   \n",
       "\n",
       "    South Dakota  Tennessee  Utah  Vermont  Virginia  Washington  \\\n",
       "65             0          0     0        0         0           0   \n",
       "\n",
       "    West Virginia  Wisconsin  Wyoming  \n",
       "65              0          0        0  \n",
       "\n",
       "[1 rows x 59 columns]"
      ]
     },
     "execution_count": 14,
     "metadata": {},
     "output_type": "execute_result"
    }
   ],
   "source": [
    "df_big=df[df['Name'].str.contains('Big Mountain')]\n",
    "\n",
    "df_big=df_big.drop(['Unnamed: 0'], axis=1)\n",
    "df_big"
   ]
  },
  {
   "cell_type": "code",
   "execution_count": 15,
   "metadata": {},
   "outputs": [
    {
     "data": {
      "text/plain": [
       "65    47.0\n",
       "Name: AdultWeekend, dtype: float64"
      ]
     },
     "execution_count": 15,
     "metadata": {},
     "output_type": "execute_result"
    }
   ],
   "source": [
    "df_big['AdultWeekend']"
   ]
  },
  {
   "cell_type": "code",
   "execution_count": 16,
   "metadata": {},
   "outputs": [],
   "source": [
    "X['AdultWeekday']=110"
   ]
  },
  {
   "cell_type": "code",
   "execution_count": 17,
   "metadata": {},
   "outputs": [],
   "source": [
    "X['daysOpenLastYear']=300"
   ]
  },
  {
   "cell_type": "code",
   "execution_count": 18,
   "metadata": {},
   "outputs": [],
   "source": [
    "X['projectedDaysOpen']=180"
   ]
  },
  {
   "cell_type": "code",
   "execution_count": 19,
   "metadata": {},
   "outputs": [
    {
     "name": "stdout",
     "output_type": "stream",
     "text": [
      "[[ 1.20199106  0.          0.         ...  2.63805242 -0.91438332\n",
      "  -1.64622371]\n",
      " [-0.97404469  0.          0.         ...  2.63805242 -0.29754782\n",
      "  -0.1258877 ]\n",
      " [ 1.65605952  0.          0.         ...  2.63805242  0.73051133\n",
      "   1.39444832]\n",
      " ...\n",
      " [-0.36978436  0.          0.         ...  2.63805242 -0.91438332\n",
      "   1.39444832]\n",
      " [-0.07289345  0.          0.         ...  2.63805242 -0.91438332\n",
      "   1.39444832]\n",
      " [ 1.25613     0.          0.         ...  2.63805242  1.34734683\n",
      "   1.39444832]]\n"
     ]
    }
   ],
   "source": [
    "from  sklearn import preprocessing\n",
    "# Here we use the StandardScaler() method of the preprocessing package, and then call the fit() method with parameter X \n",
    "scaler2 =preprocessing.StandardScaler().fit(X)\n",
    "\n",
    "# Declare a variable called X_scaled, and assign it the result of calling the transform() method with parameter X \n",
    "X_scaled=scaler1.transform(X) \n",
    "print(X_scaled)\n"
   ]
  },
  {
   "cell_type": "code",
   "execution_count": 21,
   "metadata": {},
   "outputs": [
    {
     "data": {
      "text/plain": [
       "array([100.60826639,  95.12794444, 100.66307899,  93.46295112,\n",
       "        99.61636921,  99.40600907,  91.55849422,  94.94308067,\n",
       "        96.78649162, 105.32222546,  97.69622319,  98.2734784 ,\n",
       "       105.9687773 , 106.10970968,  90.89392942,  93.41337288,\n",
       "        92.40631201,  93.22774111,  91.76325001,  94.82985837,\n",
       "       102.8137862 ,  98.84398085,  99.8014637 , 101.01797356,\n",
       "        96.05965248, 102.03619633,  91.45551451,  97.98359411,\n",
       "        92.29649033, 107.34232029,  98.40195673,  97.04685311,\n",
       "       100.88056397, 104.62901504,  96.57086144, 100.47622042,\n",
       "        95.34777247,  95.87350403,  94.80161636, 107.39027723,\n",
       "       114.09770055, 106.0399516 ,  96.81564635,  95.30986409,\n",
       "        94.59246097, 102.72987705,  99.71228426,  98.36025971,\n",
       "        97.16165141,  94.05260606, 103.50656775,  97.34772906,\n",
       "        98.30561033, 101.04540822,  95.32377536,  99.30327437,\n",
       "        99.16254238, 100.45346603,  96.47671621,  94.88982623,\n",
       "        99.23978947, 100.78945012, 100.66913518, 103.27407163,\n",
       "        96.91819888,  94.26981495,  91.40383789,  89.88435545,\n",
       "        96.46934739, 112.12405371,  99.72955169, 105.64385705,\n",
       "        99.90102625,  98.93858281, 111.11932687, 104.59539205,\n",
       "       111.22532101,  97.01405073, 110.04075133,  97.93356782,\n",
       "        85.10906795,  95.60453601,  97.56771249,  99.792659  ,\n",
       "        99.54859212, 105.03462975, 106.51719611, 104.42335533,\n",
       "        97.20275241, 101.18932447,  99.47755164,  95.72189485,\n",
       "        99.96382718, 101.8732534 ,  97.47983291,  96.90952645,\n",
       "        96.09506875, 103.22520471,  98.72194226,  99.87265014,\n",
       "       105.67902018, 106.07245687,  99.64393069, 103.51464395,\n",
       "       100.49965492, 103.86148899, 101.77402192,  89.47400604,\n",
       "        98.22085501,  95.43332672,  96.51929453, 105.382288  ,\n",
       "       105.70066606,  94.72915463, 106.37807239, 100.56726738,\n",
       "        94.6922664 , 101.00232559,  96.80195394, 104.09951848,\n",
       "        97.36955577,  97.68098792,  94.56341617,  91.24472455,\n",
       "       104.54096923,  95.00416331, 101.87269754,  92.7540923 ,\n",
       "       108.11276291, 107.4298769 , 110.16462293, 107.36377204,\n",
       "       103.98305823, 110.20231222,  96.17116513,  97.96535578,\n",
       "       101.09998895, 103.38284622, 102.75259832,  96.62239244,\n",
       "       104.12240745, 103.36021613, 108.60930605,  98.37503862,\n",
       "       105.03261758,  97.09271522,  95.76699995,  93.02483443,\n",
       "        96.66926083,  98.48423532,  98.11310128, 102.89912729,\n",
       "       101.65061227,  95.83851715,  91.14462256,  91.87104621,\n",
       "       100.67706611])"
      ]
     },
     "execution_count": 21,
     "metadata": {},
     "output_type": "execute_result"
    }
   ],
   "source": [
    "#y_pred=model.predict(X_scaled)\n",
    "model.predict(X_scaled)"
   ]
  },
  {
   "cell_type": "code",
   "execution_count": 22,
   "metadata": {},
   "outputs": [
    {
     "data": {
      "text/plain": [
       "65    47.0\n",
       "Name: AdultWeekend, dtype: float64"
      ]
     },
     "execution_count": 22,
     "metadata": {},
     "output_type": "execute_result"
    }
   ],
   "source": [
    "df_big['AdultWeekend']"
   ]
  },
  {
   "cell_type": "code",
   "execution_count": 23,
   "metadata": {},
   "outputs": [
    {
     "data": {
      "image/png": "[encoded data removed]",
      "text/plain": [
       "<Figure size 432x288 with 1 Axes>"
      ]
     },
     "metadata": {
      "needs_background": "light"
     },
     "output_type": "display_data"
    }
   ],
   "source": [
    "plt.scatter(df['projectedDaysOpen'], df['AdultWeekend'], s=50, cmap='viridis')\n",
    "plt.xlabel('projectedDaysOpen')\n",
    "plt.ylabel('AdultWeekend')\n",
    "plt.title('projectedDaysOpen by AdultWeekend  by cluster')\n",
    "plt.savefig('fig1.png',bbox_inches='tight')"
   ]
  },
  {
   "cell_type": "code",
   "execution_count": 24,
   "metadata": {},
   "outputs": [
    {
     "data": {
      "image/png": "[encoded data removed]",
      "text/plain": [
       "<Figure size 360x360 with 1 Axes>"
      ]
     },
     "metadata": {
      "needs_background": "light"
     },
     "output_type": "display_data"
    }
   ],
   "source": [
    "sns.lmplot(x='AdultWeekday',y='AdultWeekend', data=df)\n",
    "plt.xlabel('AdultWeekday')\n",
    "plt.ylabel('AdultWeekend')\n",
    "plt.title('Week day vs Weekend')\n",
    "plt.savefig('fig2.png',bbox_inches='tight')"
   ]
  },
  {
   "cell_type": "code",
   "execution_count": 25,
   "metadata": {},
   "outputs": [
    {
     "data": {
      "image/png": "[encoded data removed]",
      "text/plain": [
       "<Figure size 432x432 with 3 Axes>"
      ]
     },
     "metadata": {
      "needs_background": "light"
     },
     "output_type": "display_data"
    }
   ],
   "source": [
    "sns.jointplot(x='daysOpenLastYear',y='AdultWeekend',data=df,kind='scatter')\n",
    "plt.savefig('fig3.png',bbox_inches='tight')"
   ]
  },
  {
   "cell_type": "code",
   "execution_count": 26,
   "metadata": {},
   "outputs": [
    {
     "data": {
      "text/plain": [
       "['regression_model_adultweekend.joblib']"
      ]
     },
     "execution_count": 26,
     "metadata": {},
     "output_type": "execute_result"
    }
   ],
   "source": [
    "import pickle\n",
    "s = pickle.dumps(model)\n",
    "from joblib import dump, load\n",
    "dump(model, 'regression_model_adultweekend.joblib') "
   ]
  },
  {
   "cell_type": "code",
   "execution_count": 27,
   "metadata": {},
   "outputs": [],
   "source": [
    "dfc['Mean Absolute Error'] = mean_absolute_error(y_test,y_pred)"
   ]
  },
  {
   "cell_type": "code",
   "execution_count": 28,
   "metadata": {},
   "outputs": [],
   "source": [
    "dfc['Explained Variance Score'] = explained_variance_score(y_test,y_pred)"
   ]
  },
  {
   "cell_type": "code",
   "execution_count": 29,
   "metadata": {},
   "outputs": [
    {
     "data": {
      "text/html": [
       "<div>\n",
       "<style scoped>\n",
       "    .dataframe tbody tr th:only-of-type {\n",
       "        vertical-align: middle;\n",
       "    }\n",
       "\n",
       "    .dataframe tbody tr th {\n",
       "        vertical-align: top;\n",
       "    }\n",
       "\n",
       "    .dataframe thead th {\n",
       "        text-align: right;\n",
       "    }\n",
       "</style>\n",
       "<table border=\"1\" class=\"dataframe\">\n",
       "  <thead>\n",
       "    <tr style=\"text-align: right;\">\n",
       "      <th></th>\n",
       "      <th>Coefficient</th>\n",
       "      <th>Mean Absolute Error</th>\n",
       "      <th>Explained Variance Score</th>\n",
       "    </tr>\n",
       "  </thead>\n",
       "  <tbody>\n",
       "    <tr>\n",
       "      <th>vertical_drop</th>\n",
       "      <td>2.898365e+00</td>\n",
       "      <td>6.183673</td>\n",
       "      <td>0.755285</td>\n",
       "    </tr>\n",
       "    <tr>\n",
       "      <th>trams</th>\n",
       "      <td>1.332268e-15</td>\n",
       "      <td>6.183673</td>\n",
       "      <td>0.755285</td>\n",
       "    </tr>\n",
       "    <tr>\n",
       "      <th>fastEight</th>\n",
       "      <td>4.440892e-16</td>\n",
       "      <td>6.183673</td>\n",
       "      <td>0.755285</td>\n",
       "    </tr>\n",
       "    <tr>\n",
       "      <th>fastSixes</th>\n",
       "      <td>1.332268e-15</td>\n",
       "      <td>6.183673</td>\n",
       "      <td>0.755285</td>\n",
       "    </tr>\n",
       "    <tr>\n",
       "      <th>fastQuads</th>\n",
       "      <td>2.331171e-01</td>\n",
       "      <td>6.183673</td>\n",
       "      <td>0.755285</td>\n",
       "    </tr>\n",
       "    <tr>\n",
       "      <th>quad</th>\n",
       "      <td>1.352850e+00</td>\n",
       "      <td>6.183673</td>\n",
       "      <td>0.755285</td>\n",
       "    </tr>\n",
       "    <tr>\n",
       "      <th>triple</th>\n",
       "      <td>1.142012e+00</td>\n",
       "      <td>6.183673</td>\n",
       "      <td>0.755285</td>\n",
       "    </tr>\n",
       "    <tr>\n",
       "      <th>double</th>\n",
       "      <td>2.196375e-01</td>\n",
       "      <td>6.183673</td>\n",
       "      <td>0.755285</td>\n",
       "    </tr>\n",
       "    <tr>\n",
       "      <th>surface</th>\n",
       "      <td>6.416887e-02</td>\n",
       "      <td>6.183673</td>\n",
       "      <td>0.755285</td>\n",
       "    </tr>\n",
       "    <tr>\n",
       "      <th>total_chairs</th>\n",
       "      <td>6.596279e-01</td>\n",
       "      <td>6.183673</td>\n",
       "      <td>0.755285</td>\n",
       "    </tr>\n",
       "    <tr>\n",
       "      <th>Runs</th>\n",
       "      <td>6.819852e-01</td>\n",
       "      <td>6.183673</td>\n",
       "      <td>0.755285</td>\n",
       "    </tr>\n",
       "    <tr>\n",
       "      <th>TerrainParks</th>\n",
       "      <td>1.130816e+00</td>\n",
       "      <td>6.183673</td>\n",
       "      <td>0.755285</td>\n",
       "    </tr>\n",
       "    <tr>\n",
       "      <th>LongestRun_mi</th>\n",
       "      <td>3.710790e-01</td>\n",
       "      <td>6.183673</td>\n",
       "      <td>0.755285</td>\n",
       "    </tr>\n",
       "    <tr>\n",
       "      <th>SkiableTerrain_ac</th>\n",
       "      <td>1.151432e+00</td>\n",
       "      <td>6.183673</td>\n",
       "      <td>0.755285</td>\n",
       "    </tr>\n",
       "    <tr>\n",
       "      <th>Snow Making_ac</th>\n",
       "      <td>4.734587e-01</td>\n",
       "      <td>6.183673</td>\n",
       "      <td>0.755285</td>\n",
       "    </tr>\n",
       "    <tr>\n",
       "      <th>daysOpenLastYear</th>\n",
       "      <td>2.657376e-01</td>\n",
       "      <td>6.183673</td>\n",
       "      <td>0.755285</td>\n",
       "    </tr>\n",
       "    <tr>\n",
       "      <th>yearsOpen</th>\n",
       "      <td>7.382511e-01</td>\n",
       "      <td>6.183673</td>\n",
       "      <td>0.755285</td>\n",
       "    </tr>\n",
       "    <tr>\n",
       "      <th>averageSnowfall</th>\n",
       "      <td>5.893870e-01</td>\n",
       "      <td>6.183673</td>\n",
       "      <td>0.755285</td>\n",
       "    </tr>\n",
       "    <tr>\n",
       "      <th>AdultWeekday</th>\n",
       "      <td>1.071527e+01</td>\n",
       "      <td>6.183673</td>\n",
       "      <td>0.755285</td>\n",
       "    </tr>\n",
       "    <tr>\n",
       "      <th>projectedDaysOpen</th>\n",
       "      <td>1.470508e-02</td>\n",
       "      <td>6.183673</td>\n",
       "      <td>0.755285</td>\n",
       "    </tr>\n",
       "    <tr>\n",
       "      <th>NightSkiing_ac</th>\n",
       "      <td>4.013131e-01</td>\n",
       "      <td>6.183673</td>\n",
       "      <td>0.755285</td>\n",
       "    </tr>\n",
       "    <tr>\n",
       "      <th>clusters</th>\n",
       "      <td>2.891517e+00</td>\n",
       "      <td>6.183673</td>\n",
       "      <td>0.755285</td>\n",
       "    </tr>\n",
       "  </tbody>\n",
       "</table>\n",
       "</div>"
      ],
      "text/plain": [
       "                    Coefficient  Mean Absolute Error  Explained Variance Score\n",
       "vertical_drop      2.898365e+00             6.183673                  0.755285\n",
       "trams              1.332268e-15             6.183673                  0.755285\n",
       "fastEight          4.440892e-16             6.183673                  0.755285\n",
       "fastSixes          1.332268e-15             6.183673                  0.755285\n",
       "fastQuads          2.331171e-01             6.183673                  0.755285\n",
       "quad               1.352850e+00             6.183673                  0.755285\n",
       "triple             1.142012e+00             6.183673                  0.755285\n",
       "double             2.196375e-01             6.183673                  0.755285\n",
       "surface            6.416887e-02             6.183673                  0.755285\n",
       "total_chairs       6.596279e-01             6.183673                  0.755285\n",
       "Runs               6.819852e-01             6.183673                  0.755285\n",
       "TerrainParks       1.130816e+00             6.183673                  0.755285\n",
       "LongestRun_mi      3.710790e-01             6.183673                  0.755285\n",
       "SkiableTerrain_ac  1.151432e+00             6.183673                  0.755285\n",
       "Snow Making_ac     4.734587e-01             6.183673                  0.755285\n",
       "daysOpenLastYear   2.657376e-01             6.183673                  0.755285\n",
       "yearsOpen          7.382511e-01             6.183673                  0.755285\n",
       "averageSnowfall    5.893870e-01             6.183673                  0.755285\n",
       "AdultWeekday       1.071527e+01             6.183673                  0.755285\n",
       "projectedDaysOpen  1.470508e-02             6.183673                  0.755285\n",
       "NightSkiing_ac     4.013131e-01             6.183673                  0.755285\n",
       "clusters           2.891517e+00             6.183673                  0.755285"
      ]
     },
     "execution_count": 29,
     "metadata": {},
     "output_type": "execute_result"
    }
   ],
   "source": [
    "dfc"
   ]
  },
  {
   "cell_type": "code",
   "execution_count": null,
   "metadata": {},
   "outputs": [],
   "source": []
  }
 ],
 "metadata": {
  "kernelspec": {
   "display_name": "Python 3",
   "language": "python",
   "name": "python3"
  },
  "language_info": {
   "codemirror_mode": {
    "name": "ipython",
    "version": 3
   },
   "file_extension": ".py",
   "mimetype": "text/x-python",
   "name": "python",
   "nbconvert_exporter": "python",
   "pygments_lexer": "ipython3",
   "version": "3.8.3"
  }
 },
 "nbformat": 4,
 "nbformat_minor": 4
}
